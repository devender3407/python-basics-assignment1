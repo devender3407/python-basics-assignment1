{
  "nbformat": 4,
  "nbformat_minor": 0,
  "metadata": {
    "colab": {
      "provenance": []
    },
    "kernelspec": {
      "name": "python3",
      "display_name": "Python 3"
    },
    "language_info": {
      "name": "python"
    }
  },
  "cells": [
    {
      "cell_type": "markdown",
      "source": [
        "**PYTHON** **BASICS**"
      ],
      "metadata": {
        "id": "Yu-fA-dWvlfM"
      }
    },
    {
      "cell_type": "markdown",
      "source": [
        "question 1- what is python and why it is popular\n",
        "answer- what is python:-\n",
        "       \n",
        "        python is high-level, interpreted programming language that is videly used for collecting, analying and transforming the data across various sectors ranging fron share market, banking, telecommunications, finance, avaiation etc.\n",
        "why it is popular:-\n",
        "\n",
        "\n",
        "*   python's syntax is simple and easy to understand for bigginers\n",
        "* it can be used for web development, data science, machine learning, automation, app development, gameing, AI therefore it is versatile\n",
        "*   it has large community support due to its open source nature\n",
        "*   it has rich libararies,it is portable and it has strong integration.\n",
        "\n",
        "\n",
        "\n"
      ],
      "metadata": {
        "id": "rNDxYR0ds3RI"
      }
    },
    {
      "cell_type": "markdown",
      "source": [
        "Question 2:- what is an interpreter in python?\n",
        "\n",
        "answer:- A python interpreter is the engine that reads your python code and makes it run, one line at a time."
      ],
      "metadata": {
        "id": "5t9bswFbvSoi"
      }
    },
    {
      "cell_type": "markdown",
      "source": [
        "Question 3:- what are predefined keywords in python?\n",
        "\n",
        "Answer:- predefined keywords in python are special reserved words that have fixed meanings and cannot be used as variables. for example if, else, elif, true, false etc."
      ],
      "metadata": {
        "id": "e6wItWZ3wbLZ"
      }
    },
    {
      "cell_type": "markdown",
      "source": [
        "Question 4:- can keyword be used as a variable names?\n",
        "\n",
        "Answer:- no in python keywords cannot be used as a variable names because they carry a special meaning in python's syntax and using them as as variable would confuse an interpreter and it will also throw an error upon using it."
      ],
      "metadata": {
        "id": "K2I1AwBiwUlh"
      }
    },
    {
      "cell_type": "markdown",
      "source": [
        "Question 5:- What is mutability in python?\n",
        "\n",
        "Answer:- Mutable objects in python can be modified and changed without changing there storage space. for example list."
      ],
      "metadata": {
        "id": "IyfI6iQ7yOms"
      }
    },
    {
      "cell_type": "markdown",
      "source": [
        "Question 6:- why are lists mutable, but tuple's are immutable?\n",
        "\n",
        "Answer:- because lists are changeable, editable and are not fixed yet tuple's are fixed which cannot be changed.lists are stored in flexible memory and tuple's are stored in fixed memory."
      ],
      "metadata": {
        "id": "mEZFMyOWzzuV"
      }
    },
    {
      "cell_type": "markdown",
      "source": [
        "Question 7:- what is the diffrence between \"==\" and \"is\" operators in python?\n",
        "\n",
        "Answer:- \"==\" operator is used for equality when a and b two objects carry the same value. it is when a is 2 anb b is 2 it is written as a==b. so it checks if two variable carry the same value AND in contrast \"is\" variable checks whether a is b in the memory which it is not. so if a=2 and a=b then we can say a is b otherwise we cannot."
      ],
      "metadata": {
        "id": "VfakppDw085d"
      }
    },
    {
      "cell_type": "markdown",
      "source": [
        "Question 8:- what are logical operators in python?\n",
        "\n",
        "Answer:- logical operators in python are used to work in multiple conditions which bring the true or false result. for example and, or, not.\n",
        "and- when both are true\n",
        "or- when one is true\n",
        "not- convert true into false and vice versa."
      ],
      "metadata": {
        "id": "SH0Hm0S03cPH"
      }
    },
    {
      "cell_type": "markdown",
      "source": [
        "Question 9: What is type casting in python?\n",
        "\n",
        "answer:- Type casting in python is the process of converting one data type to another such as integer to float, float to an integer etc."
      ],
      "metadata": {
        "id": "I1n0UldL45pB"
      }
    },
    {
      "cell_type": "markdown",
      "source": [
        "Question 10:- what is the difference between implicit and explicit typecasting?\n",
        "\n",
        "Answer:- implicit type casting is done when python converts one data type to another automatically without any user involvement.\n",
        "while on the other hand explicit type casting is when user uses the code by writing a program to convert one data type to another."
      ],
      "metadata": {
        "id": "bvg5Bi9X-YN3"
      }
    },
    {
      "cell_type": "markdown",
      "source": [
        "Question 11:- What is the purpose of conditional statement in python?\n",
        "\n",
        "Answer:- the purpose of conditional statement in python is to write codes in your program based on certain conditions. vaiables of conditional statements in python are if, else, elif, nested if. As the names of these variables suggest they can be used to describe different conditions."
      ],
      "metadata": {
        "id": "weju5kab_zAE"
      }
    },
    {
      "cell_type": "markdown",
      "source": [
        "Question 12:- How does the elif statement work?\n",
        "\n",
        "Answer:- elif statement in python stands for \"else if\", ans it is used to check multiple conditions in an organised pattern. At first python checks \"if\" statement and if it is true it executes that block and skips the further steps. if it is false then it moves to the first \"elif\" condition and it continues to check each \"elif\" condition in that order and if none of the if and elif conditions are true then it will execute the final \"else\" if it exists.\n"
      ],
      "metadata": {
        "id": "i4Fqqg2pGXaL"
      }
    },
    {
      "cell_type": "markdown",
      "source": [
        "Quesdtion 13:- what is the difference between for and while loop?\n",
        "\n",
        "Answer:- Both for and while loop in python are used to repeat a code but have different uses.\n",
        "key difference in both loops:-\n",
        "\n",
        "\"for\" loop is used for iterating over sequences such as lists,strings and range. in this we know in advance for how many times a loop will run.\n",
        "\n",
        "\"while\" loop runs according to the validity of the condition."
      ],
      "metadata": {
        "id": "LPfbctwVJaSm"
      }
    },
    {
      "cell_type": "markdown",
      "source": [
        "Question 14:- Discribe a scenario where while loop is more suitable than for loop?\n",
        "\n",
        "Answer:- A while loop is more suitable when you dont know in advance how many times the loop will run. you just need to keep repeating until a codition is met.\n",
        "scenario:- suppose you are writig a programe to that ask to enter the pattern of the safe lock. you dont know whether you will get it right since you forgot. so you cannot use the for loop since you dont know the pattern."
      ],
      "metadata": {
        "id": "prFqqrojOFs7"
      }
    },
    {
      "cell_type": "markdown",
      "source": [
        "# PRACTICAL QUESTIONS"
      ],
      "metadata": {
        "id": "X8qLLA0veQam"
      }
    },
    {
      "cell_type": "markdown",
      "source": [
        "Question 1:- write a python program to print hello world.\n"
      ],
      "metadata": {
        "id": "JaI2_u3WehJO"
      }
    },
    {
      "cell_type": "code",
      "source": [
        "print(\"hello world\")\n"
      ],
      "metadata": {
        "colab": {
          "base_uri": "https://localhost:8080/"
        },
        "id": "H-7yvhI8fNY1",
        "outputId": "eb640188-4e1d-450d-c723-f6d09dd466b4"
      },
      "execution_count": null,
      "outputs": [
        {
          "output_type": "stream",
          "name": "stdout",
          "text": [
            "hello world\n"
          ]
        }
      ]
    },
    {
      "cell_type": "markdown",
      "source": [
        "Question 2:- write a python program that displays your name and age.\n"
      ],
      "metadata": {
        "id": "C15ioLRqfq5Z"
      }
    },
    {
      "cell_type": "code",
      "source": [
        "#name = \"devender singh\"\n",
        "#age = 25\n",
        "print(\"my name = devender singh\")\n",
        "print(\" my age is 25\")\n"
      ],
      "metadata": {
        "colab": {
          "base_uri": "https://localhost:8080/"
        },
        "id": "NQfshxWFhTka",
        "outputId": "df26bd0e-66c0-45c3-9447-2c5b1f929e1c"
      },
      "execution_count": null,
      "outputs": [
        {
          "output_type": "stream",
          "name": "stdout",
          "text": [
            "my name = devender singh\n",
            " my age is 25\n"
          ]
        }
      ]
    },
    {
      "cell_type": "markdown",
      "source": [
        "Question 3:- write code to print all the pre-defined keywords in python using the key words library."
      ],
      "metadata": {
        "id": "wXavequMkRj8"
      }
    },
    {
      "cell_type": "code",
      "source": [
        "#import keywords\n",
        "#get the list of all the keywords\n",
        "print(\"pre-defined keywords in python are\")\n",
        "import keyword\n",
        "print(keyword.kwlist)"
      ],
      "metadata": {
        "colab": {
          "base_uri": "https://localhost:8080/"
        },
        "id": "Z1CV-BMClAYa",
        "outputId": "4ca6092a-9403-4efa-f449-e93cc46825a4"
      },
      "execution_count": null,
      "outputs": [
        {
          "output_type": "stream",
          "name": "stdout",
          "text": [
            "pre-defined keywords in python are\n",
            "['False', 'None', 'True', 'and', 'as', 'assert', 'async', 'await', 'break', 'class', 'continue', 'def', 'del', 'elif', 'else', 'except', 'finally', 'for', 'from', 'global', 'if', 'import', 'in', 'is', 'lambda', 'nonlocal', 'not', 'or', 'pass', 'raise', 'return', 'try', 'while', 'with', 'yield']\n"
          ]
        }
      ]
    },
    {
      "cell_type": "markdown",
      "source": [
        "Question 4:- write a program that checks if a given word is a python keyword.\n"
      ],
      "metadata": {
        "id": "X7GEOK1Wm9yA"
      }
    },
    {
      "cell_type": "code",
      "source": [
        "#import keyword\n",
        "#inspection of python keyword. choosing from \"while\" and \"neither\"\n",
        "print(keyword.iskeyword(\"while\"))\n",
        "print(keyword.iskeyword(\"neither\"))"
      ],
      "metadata": {
        "colab": {
          "base_uri": "https://localhost:8080/"
        },
        "id": "mYKies0AnRaE",
        "outputId": "1c2a3258-c77c-42a5-f64f-7b6c9afffbc7"
      },
      "execution_count": null,
      "outputs": [
        {
          "output_type": "stream",
          "name": "stdout",
          "text": [
            "True\n",
            "False\n"
          ]
        }
      ]
    },
    {
      "cell_type": "markdown",
      "source": [
        "Question 5:- create a list and tuple in python, and demonstrate how attempting to change an element works differently for each.\n"
      ],
      "metadata": {
        "id": "epnu66-6qi0j"
      }
    },
    {
      "cell_type": "code",
      "source": [
        "# creating a list\n",
        "my_list = [10, 20,30]\n",
        "print(\"original list:\", my_list)"
      ],
      "metadata": {
        "colab": {
          "base_uri": "https://localhost:8080/"
        },
        "id": "rViFGAXZ3QZ8",
        "outputId": "a52f2b89-5eb9-4c13-eaf1-a0bcf5393607"
      },
      "execution_count": null,
      "outputs": [
        {
          "output_type": "stream",
          "name": "stdout",
          "text": [
            "original list: [10, 20, 30]\n"
          ]
        }
      ]
    },
    {
      "cell_type": "code",
      "source": [
        "#changing an element in the list\n",
        "my_list[1] = 99\n",
        "print(\"modified list:\", my_list)"
      ],
      "metadata": {
        "colab": {
          "base_uri": "https://localhost:8080/"
        },
        "id": "f8Q7QbEW3tXM",
        "outputId": "c3c9c9ba-ad9b-4726-b6c4-ca740511765d"
      },
      "execution_count": null,
      "outputs": [
        {
          "output_type": "stream",
          "name": "stdout",
          "text": [
            "modified list: [10, 99, 30]\n"
          ]
        }
      ]
    },
    {
      "cell_type": "code",
      "source": [
        "# creating a tuple\n",
        "my_tuple = (10, 20,30)\n",
        "print(\"original tuple:\", my_tuple)"
      ],
      "metadata": {
        "colab": {
          "base_uri": "https://localhost:8080/"
        },
        "outputId": "a1c5e047-80c5-4dbb-afbc-76433fe69846",
        "id": "iaqsNo4D4Rfe"
      },
      "execution_count": null,
      "outputs": [
        {
          "output_type": "stream",
          "name": "stdout",
          "text": [
            "original tuple: (10, 20, 30)\n"
          ]
        }
      ]
    },
    {
      "cell_type": "code",
      "source": [
        "#changing an element in the tuple\n",
        "my_tuple[1] = 99\n",
        "print(\"modified tuple:\", my_tuple)"
      ],
      "metadata": {
        "colab": {
          "base_uri": "https://localhost:8080/",
          "height": 176
        },
        "id": "zKc6HFQ24eOO",
        "outputId": "3f3cc4da-b1f1-4922-cfe6-e4b0826f58f0"
      },
      "execution_count": null,
      "outputs": [
        {
          "output_type": "error",
          "ename": "TypeError",
          "evalue": "'tuple' object does not support item assignment",
          "traceback": [
            "\u001b[0;31m---------------------------------------------------------------------------\u001b[0m",
            "\u001b[0;31mTypeError\u001b[0m                                 Traceback (most recent call last)",
            "\u001b[0;32m/tmp/ipython-input-25-3467425240.py\u001b[0m in \u001b[0;36m<cell line: 0>\u001b[0;34m()\u001b[0m\n\u001b[1;32m      1\u001b[0m \u001b[0;31m#changing an element in the tuple\u001b[0m\u001b[0;34m\u001b[0m\u001b[0;34m\u001b[0m\u001b[0m\n\u001b[0;32m----> 2\u001b[0;31m \u001b[0mmy_tuple\u001b[0m\u001b[0;34m[\u001b[0m\u001b[0;36m1\u001b[0m\u001b[0;34m]\u001b[0m \u001b[0;34m=\u001b[0m \u001b[0;36m99\u001b[0m\u001b[0;34m\u001b[0m\u001b[0;34m\u001b[0m\u001b[0m\n\u001b[0m\u001b[1;32m      3\u001b[0m \u001b[0mprint\u001b[0m\u001b[0;34m(\u001b[0m\u001b[0;34m\"modified tuple:\"\u001b[0m\u001b[0;34m,\u001b[0m \u001b[0mmy_tuple\u001b[0m\u001b[0;34m)\u001b[0m\u001b[0;34m\u001b[0m\u001b[0;34m\u001b[0m\u001b[0m\n",
            "\u001b[0;31mTypeError\u001b[0m: 'tuple' object does not support item assignment"
          ]
        }
      ]
    },
    {
      "cell_type": "markdown",
      "source": [
        "Question 6:- Write a function to demonstrate the behavior of mutable and immutable arguments.\n"
      ],
      "metadata": {
        "id": "zlFsN7G2xt82"
      }
    },
    {
      "cell_type": "code",
      "source": [
        "def modify_arguments(num, name, items):\n",
        "  print(\"before modification;\")\n",
        "  print(f\"num (int): {num}\")\n",
        "  print(f\"name (str): {name}\")\n",
        "  print(F\"items (list): {items}\")\n",
        "\n",
        "  #attempting to modify them\n",
        "  num += 10\n",
        "  name += \"world\"\n",
        "  items.append(4)\n",
        "\n",
        "  print(\"\\nafter modificatioin inside function:\")\n",
        "  print(f\"num (int): {num}\")\n",
        "  print(f\"name (str): {name}\")\n",
        "  print(f\"items (list): {items}\")\n",
        "\n",
        "#original value\n",
        "a = 5\n",
        "b = \"hello\"\n",
        "c = [1, 2, 3]\n",
        "\n",
        "modify_arguments(a, b, c)\n",
        "\n",
        "print(\"\\noutside function after call:\")\n",
        "print(f\"a (int): {a}\")\n",
        "print(f\"b (str): {b}\")\n",
        "print(f\"c (list): {c}\")"
      ],
      "metadata": {
        "id": "B8gb6N0hxyuJ",
        "colab": {
          "base_uri": "https://localhost:8080/"
        },
        "outputId": "f57fbf55-4813-432f-f674-167c02027568"
      },
      "execution_count": null,
      "outputs": [
        {
          "output_type": "stream",
          "name": "stdout",
          "text": [
            "before modification;\n",
            "num (int): 5\n",
            "name (str): hello\n",
            "items (list): [1, 2, 3]\n",
            "\n",
            "after modificatioin inside function:\n",
            "num (int): 15\n",
            "name (str): helloworld\n",
            "items (list): [1, 2, 3, 4]\n",
            "\n",
            "outside function after call:\n",
            "a (int): 5\n",
            "b (str): hello\n",
            "c (list): [1, 2, 3, 4]\n"
          ]
        }
      ]
    },
    {
      "cell_type": "markdown",
      "source": [
        "Question 7:- write a program that performs basic arithmatic operations on two user-input methods.\n"
      ],
      "metadata": {
        "id": "Jnpzamp41RJb"
      }
    },
    {
      "cell_type": "code",
      "source": [
        "def arithmetic_operations(a, b):\n",
        " print(\"Addition:\", a + b)\n",
        "print(\"subtraction:\", a - b)\n",
        "print(\"multiplication:\", a * b)\n",
        "if b != 0:\n",
        "  print(\"division:\", a / b)\n",
        "else:\n",
        "    print(\"division: cannot divide by zero\")\n",
        "num1 = 20\n",
        "num2 = 4\n",
        "print(\"before passing to function\")\n"
      ],
      "metadata": {
        "id": "KD5e1b4V14Vr",
        "colab": {
          "base_uri": "https://localhost:8080/"
        },
        "outputId": "f81000ff-19b7-4645-ef35-a246527b5dbd"
      },
      "execution_count": null,
      "outputs": [
        {
          "output_type": "stream",
          "name": "stdout",
          "text": [
            "subtraction: 8.0\n",
            "multiplication: 20.0\n",
            "division: 5.0\n",
            "before passing to function\n"
          ]
        }
      ]
    },
    {
      "cell_type": "markdown",
      "source": [
        "Question 8:- write the program to demonstrate the use of logical operators."
      ],
      "metadata": {
        "id": "pgSTjniBFnMD"
      }
    },
    {
      "cell_type": "code",
      "source": [
        "#logical operators demo in python\n",
        "a = -5\n",
        "b = 3\n",
        "\n",
        "#using 'and' operator\n",
        "if a > 0 and b > 0:\n",
        "    print(\"both a and b are positive numbers.\")\n",
        "else:\n",
        "    print(\"either a or b is not positive.\")\n",
        "\n",
        "#using 'or' operator\n",
        "if a > 0 or b > 0:\n",
        "    print(\"at least one of a or b is positive.\")\n",
        "else:\n",
        "    print(\"neither a nor b is positive.\")\n",
        "\n",
        "# using 'not operator\n",
        "if not ( a < 0):\n",
        "    print(\"a is not a negative number.\")\n",
        "else:\n",
        "    print(\"a is a negative number.\")"
      ],
      "metadata": {
        "id": "yFqc1VB1F7n9",
        "colab": {
          "base_uri": "https://localhost:8080/"
        },
        "outputId": "b3d6e6e0-c467-4092-a4b4-43c638962980"
      },
      "execution_count": null,
      "outputs": [
        {
          "output_type": "stream",
          "name": "stdout",
          "text": [
            "either a or b is not positive.\n",
            "at least one of a or b is positive.\n",
            "a is a negative number.\n"
          ]
        }
      ]
    },
    {
      "cell_type": "markdown",
      "source": [
        "Question 9: write a python program to convert input from string to integer, float, and boolean type.\n"
      ],
      "metadata": {
        "id": "7ruygiN8LkBx"
      }
    },
    {
      "cell_type": "code",
      "source": [
        "#string to an integer\n",
        "a= \"2\"\n",
        "print(type(a))\n",
        "print(type(int(a)))"
      ],
      "metadata": {
        "id": "3VSL-gOHOk0B",
        "colab": {
          "base_uri": "https://localhost:8080/"
        },
        "outputId": "1d1321b7-dead-4bee-c832-7c92ff9bde91"
      },
      "execution_count": null,
      "outputs": [
        {
          "output_type": "stream",
          "name": "stdout",
          "text": [
            "<class 'str'>\n",
            "<class 'int'>\n"
          ]
        }
      ]
    },
    {
      "cell_type": "code",
      "source": [
        "#integer to float\n",
        "a = 2\n",
        "print(type(a)))\n",
        "b= float(a)\n",
        "print(b)\n"
      ],
      "metadata": {
        "id": "e3D8XOGqPHIo",
        "colab": {
          "base_uri": "https://localhost:8080/"
        },
        "outputId": "2d5fab54-ed48-4f62-a7ae-0a1927b0af91"
      },
      "execution_count": null,
      "outputs": [
        {
          "output_type": "stream",
          "name": "stdout",
          "text": [
            "<class 'int'>\n"
          ]
        }
      ]
    },
    {
      "cell_type": "code",
      "source": [
        "#integer to boolean\n",
        "a = 10\n",
        "print(type(a))\n",
        "print(type(bool(a)))\n",
        "print(a)"
      ],
      "metadata": {
        "colab": {
          "base_uri": "https://localhost:8080/"
        },
        "id": "im2y_Sd8Q2FH",
        "outputId": "e218c076-fab0-46a8-92ff-dcd1ecb88a11"
      },
      "execution_count": null,
      "outputs": [
        {
          "output_type": "stream",
          "name": "stdout",
          "text": [
            "<class 'int'>\n",
            "<class 'bool'>\n",
            "10\n"
          ]
        }
      ]
    },
    {
      "cell_type": "markdown",
      "source": [
        "Question 10:- write code to demonstrate type casting with list element."
      ],
      "metadata": {
        "id": "JT59p89lSmo_"
      }
    },
    {
      "cell_type": "code",
      "source": [
        "#list of strings represented numbers\n",
        "str_list = ['10', '20', '30', '40.6', 'true']\n",
        "\n",
        "#convert string elements to different types\n",
        "int_list = [int(float(item)) for item in str_list[:-1]]  #convert to int (excluding 'true')\n",
        "float_list = [float(item) for item in str_list[:-1]]  #convert to float (excluding 'true')\n",
        "bool_list = [bool(item) for item in str_list] #convert all to boolean\n",
        "\n",
        "print(\"original list:\", str_list)\n",
        "print(\"as integers:\", int_list)\n",
        "print(\"as floats:\", float_list)\n",
        "print(\"as boolean:\", bool_list)\n"
      ],
      "metadata": {
        "id": "SFHRoO0YTLQ4",
        "colab": {
          "base_uri": "https://localhost:8080/"
        },
        "outputId": "f2136b69-9024-4074-d105-0dc2e4331ed5"
      },
      "execution_count": null,
      "outputs": [
        {
          "output_type": "stream",
          "name": "stdout",
          "text": [
            "original list: ['10', '20', '30', '40.6', 'true']\n",
            "as integers: [10, 20, 30, 40]\n",
            "as floats: [10.0, 20.0, 30.0, 40.6]\n",
            "as boolean: [True, True, True, True, True]\n"
          ]
        }
      ]
    },
    {
      "cell_type": "markdown",
      "source": [
        "Question 11:- write a program that checks if a number is positive, negative, or zero."
      ],
      "metadata": {
        "id": "BolV_Fbu7Dd_"
      }
    },
    {
      "cell_type": "code",
      "source": [
        "# get user input\n",
        "num = -4\n",
        "\n",
        "#check the number\n",
        "if num > 0:\n",
        "    print(\"the number is positive.\")\n",
        "elif num < 0:\n",
        "    print(\"the number is negative.\")\n",
        "else:\n",
        "    print(\"the number is zero.\")"
      ],
      "metadata": {
        "id": "Xmq6-clh7U3v",
        "colab": {
          "base_uri": "https://localhost:8080/"
        },
        "outputId": "7c5dbdb6-abcc-45f5-f56f-f8ba9a22f93a"
      },
      "execution_count": null,
      "outputs": [
        {
          "output_type": "stream",
          "name": "stdout",
          "text": [
            "the number is negative.\n"
          ]
        }
      ]
    },
    {
      "cell_type": "markdown",
      "source": [
        "Question 12:- write a for loop to print numbers from 1 to 10.\n"
      ],
      "metadata": {
        "id": "AjOQ-YNjAUcS"
      }
    },
    {
      "cell_type": "code",
      "source": [
        "for i in range(1,11):\n",
        "    print(i)"
      ],
      "metadata": {
        "colab": {
          "base_uri": "https://localhost:8080/"
        },
        "id": "GBTwF6p5Alm3",
        "outputId": "4079b1ae-5411-4b21-c98c-f0f55dba6ec8"
      },
      "execution_count": null,
      "outputs": [
        {
          "output_type": "stream",
          "name": "stdout",
          "text": [
            "1\n",
            "2\n",
            "3\n",
            "4\n",
            "5\n",
            "6\n",
            "7\n",
            "8\n",
            "9\n",
            "10\n"
          ]
        }
      ]
    },
    {
      "cell_type": "markdown",
      "source": [
        "Question 13:- write a python program to find the sum of all even numbers between 1 and 50."
      ],
      "metadata": {
        "id": "ZW5pE22KBLys"
      }
    },
    {
      "cell_type": "code",
      "source": [
        "sum_even = 0\n",
        "\n",
        "for i in range(1, 51):\n",
        "  if i % 2 ==0:\n",
        "    sum_even += i\n",
        "\n",
        "  print(\"sum of even numbers from 1 to 50 is:\", sum_even)"
      ],
      "metadata": {
        "colab": {
          "base_uri": "https://localhost:8080/"
        },
        "id": "8c1rQPmRBdlJ",
        "outputId": "2bd6a3b4-282a-4b00-f0f0-2e10fb50e50d"
      },
      "execution_count": null,
      "outputs": [
        {
          "output_type": "stream",
          "name": "stdout",
          "text": [
            "sum of even numbers from 1 to 50 is: 0\n",
            "sum of even numbers from 1 to 50 is: 2\n",
            "sum of even numbers from 1 to 50 is: 2\n",
            "sum of even numbers from 1 to 50 is: 6\n",
            "sum of even numbers from 1 to 50 is: 6\n",
            "sum of even numbers from 1 to 50 is: 12\n",
            "sum of even numbers from 1 to 50 is: 12\n",
            "sum of even numbers from 1 to 50 is: 20\n",
            "sum of even numbers from 1 to 50 is: 20\n",
            "sum of even numbers from 1 to 50 is: 30\n",
            "sum of even numbers from 1 to 50 is: 30\n",
            "sum of even numbers from 1 to 50 is: 42\n",
            "sum of even numbers from 1 to 50 is: 42\n",
            "sum of even numbers from 1 to 50 is: 56\n",
            "sum of even numbers from 1 to 50 is: 56\n",
            "sum of even numbers from 1 to 50 is: 72\n",
            "sum of even numbers from 1 to 50 is: 72\n",
            "sum of even numbers from 1 to 50 is: 90\n",
            "sum of even numbers from 1 to 50 is: 90\n",
            "sum of even numbers from 1 to 50 is: 110\n",
            "sum of even numbers from 1 to 50 is: 110\n",
            "sum of even numbers from 1 to 50 is: 132\n",
            "sum of even numbers from 1 to 50 is: 132\n",
            "sum of even numbers from 1 to 50 is: 156\n",
            "sum of even numbers from 1 to 50 is: 156\n",
            "sum of even numbers from 1 to 50 is: 182\n",
            "sum of even numbers from 1 to 50 is: 182\n",
            "sum of even numbers from 1 to 50 is: 210\n",
            "sum of even numbers from 1 to 50 is: 210\n",
            "sum of even numbers from 1 to 50 is: 240\n",
            "sum of even numbers from 1 to 50 is: 240\n",
            "sum of even numbers from 1 to 50 is: 272\n",
            "sum of even numbers from 1 to 50 is: 272\n",
            "sum of even numbers from 1 to 50 is: 306\n",
            "sum of even numbers from 1 to 50 is: 306\n",
            "sum of even numbers from 1 to 50 is: 342\n",
            "sum of even numbers from 1 to 50 is: 342\n",
            "sum of even numbers from 1 to 50 is: 380\n",
            "sum of even numbers from 1 to 50 is: 380\n",
            "sum of even numbers from 1 to 50 is: 420\n",
            "sum of even numbers from 1 to 50 is: 420\n",
            "sum of even numbers from 1 to 50 is: 462\n",
            "sum of even numbers from 1 to 50 is: 462\n",
            "sum of even numbers from 1 to 50 is: 506\n",
            "sum of even numbers from 1 to 50 is: 506\n",
            "sum of even numbers from 1 to 50 is: 552\n",
            "sum of even numbers from 1 to 50 is: 552\n",
            "sum of even numbers from 1 to 50 is: 600\n",
            "sum of even numbers from 1 to 50 is: 600\n",
            "sum of even numbers from 1 to 50 is: 650\n"
          ]
        }
      ]
    },
    {
      "cell_type": "markdown",
      "source": [
        "Question 14:- write a program to reverse a string using a while loop.\n"
      ],
      "metadata": {
        "id": "zurRK3XnEhq0"
      }
    },
    {
      "cell_type": "code",
      "source": [
        "#get input fron user\n",
        "text = input(\"enter a string:\")\n",
        "\n",
        "#initialize variables\n",
        "reversed_text = \"\"\n",
        "index = len(text) - 1\n",
        "\n",
        "#reverse using while loop\n",
        "while index >= 0:\n",
        "    reversed_text += text[index]\n",
        "    index -= 1\n",
        "\n",
        "print(\"reversed string:\", reversed_text)\n"
      ],
      "metadata": {
        "colab": {
          "base_uri": "https://localhost:8080/",
          "height": 356
        },
        "id": "DjNPmPwMEtB0",
        "outputId": "f5245b8d-0b49-4e9e-bd88-84ef2af13005"
      },
      "execution_count": 1,
      "outputs": [
        {
          "output_type": "error",
          "ename": "KeyboardInterrupt",
          "evalue": "Interrupted by user",
          "traceback": [
            "\u001b[0;31m---------------------------------------------------------------------------\u001b[0m",
            "\u001b[0;31mKeyboardInterrupt\u001b[0m                         Traceback (most recent call last)",
            "\u001b[0;32m/tmp/ipython-input-1-4083661607.py\u001b[0m in \u001b[0;36m<cell line: 0>\u001b[0;34m()\u001b[0m\n\u001b[1;32m      1\u001b[0m \u001b[0;31m#get input fron user\u001b[0m\u001b[0;34m\u001b[0m\u001b[0;34m\u001b[0m\u001b[0m\n\u001b[0;32m----> 2\u001b[0;31m \u001b[0mtext\u001b[0m \u001b[0;34m=\u001b[0m \u001b[0minput\u001b[0m\u001b[0;34m(\u001b[0m\u001b[0;34m\"enter a string:\"\u001b[0m\u001b[0;34m)\u001b[0m\u001b[0;34m\u001b[0m\u001b[0;34m\u001b[0m\u001b[0m\n\u001b[0m\u001b[1;32m      3\u001b[0m \u001b[0;34m\u001b[0m\u001b[0m\n\u001b[1;32m      4\u001b[0m \u001b[0;31m#initialize variables\u001b[0m\u001b[0;34m\u001b[0m\u001b[0;34m\u001b[0m\u001b[0m\n\u001b[1;32m      5\u001b[0m \u001b[0mreversed_text\u001b[0m \u001b[0;34m=\u001b[0m \u001b[0;34m\"\"\u001b[0m\u001b[0;34m\u001b[0m\u001b[0;34m\u001b[0m\u001b[0m\n",
            "\u001b[0;32m/usr/local/lib/python3.11/dist-packages/ipykernel/kernelbase.py\u001b[0m in \u001b[0;36mraw_input\u001b[0;34m(self, prompt)\u001b[0m\n\u001b[1;32m   1175\u001b[0m                 \u001b[0;34m\"raw_input was called, but this frontend does not support input requests.\"\u001b[0m\u001b[0;34m\u001b[0m\u001b[0;34m\u001b[0m\u001b[0m\n\u001b[1;32m   1176\u001b[0m             )\n\u001b[0;32m-> 1177\u001b[0;31m         return self._input_request(\n\u001b[0m\u001b[1;32m   1178\u001b[0m             \u001b[0mstr\u001b[0m\u001b[0;34m(\u001b[0m\u001b[0mprompt\u001b[0m\u001b[0;34m)\u001b[0m\u001b[0;34m,\u001b[0m\u001b[0;34m\u001b[0m\u001b[0;34m\u001b[0m\u001b[0m\n\u001b[1;32m   1179\u001b[0m             \u001b[0mself\u001b[0m\u001b[0;34m.\u001b[0m\u001b[0m_parent_ident\u001b[0m\u001b[0;34m[\u001b[0m\u001b[0;34m\"shell\"\u001b[0m\u001b[0;34m]\u001b[0m\u001b[0;34m,\u001b[0m\u001b[0;34m\u001b[0m\u001b[0;34m\u001b[0m\u001b[0m\n",
            "\u001b[0;32m/usr/local/lib/python3.11/dist-packages/ipykernel/kernelbase.py\u001b[0m in \u001b[0;36m_input_request\u001b[0;34m(self, prompt, ident, parent, password)\u001b[0m\n\u001b[1;32m   1217\u001b[0m             \u001b[0;32mexcept\u001b[0m \u001b[0mKeyboardInterrupt\u001b[0m\u001b[0;34m:\u001b[0m\u001b[0;34m\u001b[0m\u001b[0;34m\u001b[0m\u001b[0m\n\u001b[1;32m   1218\u001b[0m                 \u001b[0;31m# re-raise KeyboardInterrupt, to truncate traceback\u001b[0m\u001b[0;34m\u001b[0m\u001b[0;34m\u001b[0m\u001b[0m\n\u001b[0;32m-> 1219\u001b[0;31m                 \u001b[0;32mraise\u001b[0m \u001b[0mKeyboardInterrupt\u001b[0m\u001b[0;34m(\u001b[0m\u001b[0;34m\"Interrupted by user\"\u001b[0m\u001b[0;34m)\u001b[0m \u001b[0;32mfrom\u001b[0m \u001b[0;32mNone\u001b[0m\u001b[0;34m\u001b[0m\u001b[0;34m\u001b[0m\u001b[0m\n\u001b[0m\u001b[1;32m   1220\u001b[0m             \u001b[0;32mexcept\u001b[0m \u001b[0mException\u001b[0m\u001b[0;34m:\u001b[0m\u001b[0;34m\u001b[0m\u001b[0;34m\u001b[0m\u001b[0m\n\u001b[1;32m   1221\u001b[0m                 \u001b[0mself\u001b[0m\u001b[0;34m.\u001b[0m\u001b[0mlog\u001b[0m\u001b[0;34m.\u001b[0m\u001b[0mwarning\u001b[0m\u001b[0;34m(\u001b[0m\u001b[0;34m\"Invalid Message:\"\u001b[0m\u001b[0;34m,\u001b[0m \u001b[0mexc_info\u001b[0m\u001b[0;34m=\u001b[0m\u001b[0;32mTrue\u001b[0m\u001b[0;34m)\u001b[0m\u001b[0;34m\u001b[0m\u001b[0;34m\u001b[0m\u001b[0m\n",
            "\u001b[0;31mKeyboardInterrupt\u001b[0m: Interrupted by user"
          ]
        }
      ]
    },
    {
      "cell_type": "markdown",
      "source": [
        "Question 15:- write a python program to calculate the factorial of a number provided by the user using a while loop.\n"
      ],
      "metadata": {
        "id": "3Yg2jEVwIrRj"
      }
    },
    {
      "cell_type": "code",
      "source": [
        "#get input fron user\n",
        "num = int(input(\"enter a non-negative integer:\"))\n",
        "\n",
        "#validate input\n",
        "if num < 0:\n",
        "    print(\"factorial is not defined for negative number.\")\n",
        "else:\n",
        "    factorial = 1\n",
        "    i = 1\n",
        "\n",
        "    while i <= num:\n",
        "      factorial *= i\n",
        "      i += 1\n",
        "\n",
        "    print(f\"factorial of {num} is: {factorial}\")"
      ],
      "metadata": {
        "id": "7iOj2Vq1JHAH"
      },
      "execution_count": null,
      "outputs": []
    },
    {
      "cell_type": "code",
      "source": [],
      "metadata": {
        "id": "CVUJdQKLJe56"
      },
      "execution_count": null,
      "outputs": []
    }
  ]
}